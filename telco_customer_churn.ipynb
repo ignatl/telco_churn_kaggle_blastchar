{
 "cells": [
  {
   "cell_type": "markdown",
   "metadata": {},
   "source": [
    "# Telco Customer Churn\n",
    "Focused customer retention programs\n",
    "## Context\n",
    "\"Predict behavior to retain customers. You can analyze all relevant customer data and develop focused customer retention programs.\" [IBM Sample Data Sets]\n",
    "## Content\n",
    "Each row represents a customer, each column contains customer’s attributes described on the column Metadata.\n",
    "\n",
    "The data set includes information about:\n",
    "\n",
    "Customers who left within the last month – the column is called Churn\n",
    "Services that each customer has signed up for – phone, multiple lines, internet, online security, online backup, device protection, tech support, and streaming TV and movies\n",
    "Customer account information – how long they’ve been a customer, contract, payment method, paperless billing, monthly charges, and total charges\n",
    "Demographic info about customers – gender, age range, and if they have partners and dependents\n",
    "## Inspiration\n",
    "To explore this type of models and learn more about the subject.\n",
    "\n",
    "[Page on kaggle](https://www.kaggle.com/blastchar/telco-customer-churn)"
   ]
  },
  {
   "cell_type": "code",
   "execution_count": 25,
   "metadata": {},
   "outputs": [],
   "source": [
    "import numpy as np\n",
    "import pandas as pd\n",
    "import matplotlib.pyplot as plt\n",
    "import seaborn as sns\n",
    "\n",
    "from sklearn.base import BaseEstimator, TransformerMixin\n",
    "from sklearn.linear_model import LogisticRegression\n",
    "from sklearn.ensemble import RandomForestClassifier, GradientBoostingClassifier\n",
    "from sklearn.model_selection import train_test_split, cross_val_score, GridSearchCV\n",
    "from sklearn.preprocessing import StandardScaler, OneHotEncoder\n",
    "from sklearn.compose import ColumnTransformer\n",
    "from sklearn.pipeline import Pipeline\n",
    "from sklearn.metrics import roc_auc_score\n",
    "\n",
    "from category_encoders import WOEEncoder, SumEncoder, OrdinalEncoder\n",
    "\n",
    "from scipy.stats import mannwhitneyu"
   ]
  },
  {
   "cell_type": "markdown",
   "metadata": {},
   "source": [
    "# Exploratory analysis"
   ]
  },
  {
   "cell_type": "code",
   "execution_count": 2,
   "metadata": {},
   "outputs": [
    {
     "name": "stdout",
     "output_type": "stream",
     "text": [
      "(7043, 21)\n"
     ]
    }
   ],
   "source": [
    "df = pd.read_csv('WA_Fn-UseC_-Telco-Customer-Churn.csv')\n",
    "print(df.shape)"
   ]
  },
  {
   "cell_type": "code",
   "execution_count": 3,
   "metadata": {},
   "outputs": [
    {
     "data": {
      "text/html": [
       "<div>\n",
       "<style scoped>\n",
       "    .dataframe tbody tr th:only-of-type {\n",
       "        vertical-align: middle;\n",
       "    }\n",
       "\n",
       "    .dataframe tbody tr th {\n",
       "        vertical-align: top;\n",
       "    }\n",
       "\n",
       "    .dataframe thead th {\n",
       "        text-align: right;\n",
       "    }\n",
       "</style>\n",
       "<table border=\"1\" class=\"dataframe\">\n",
       "  <thead>\n",
       "    <tr style=\"text-align: right;\">\n",
       "      <th></th>\n",
       "      <th>customerID</th>\n",
       "      <th>gender</th>\n",
       "      <th>SeniorCitizen</th>\n",
       "      <th>Partner</th>\n",
       "      <th>Dependents</th>\n",
       "      <th>tenure</th>\n",
       "      <th>PhoneService</th>\n",
       "      <th>MultipleLines</th>\n",
       "      <th>InternetService</th>\n",
       "      <th>OnlineSecurity</th>\n",
       "      <th>...</th>\n",
       "      <th>DeviceProtection</th>\n",
       "      <th>TechSupport</th>\n",
       "      <th>StreamingTV</th>\n",
       "      <th>StreamingMovies</th>\n",
       "      <th>Contract</th>\n",
       "      <th>PaperlessBilling</th>\n",
       "      <th>PaymentMethod</th>\n",
       "      <th>MonthlyCharges</th>\n",
       "      <th>TotalCharges</th>\n",
       "      <th>Churn</th>\n",
       "    </tr>\n",
       "  </thead>\n",
       "  <tbody>\n",
       "    <tr>\n",
       "      <td>0</td>\n",
       "      <td>7590-VHVEG</td>\n",
       "      <td>Female</td>\n",
       "      <td>0</td>\n",
       "      <td>Yes</td>\n",
       "      <td>No</td>\n",
       "      <td>1</td>\n",
       "      <td>No</td>\n",
       "      <td>No phone service</td>\n",
       "      <td>DSL</td>\n",
       "      <td>No</td>\n",
       "      <td>...</td>\n",
       "      <td>No</td>\n",
       "      <td>No</td>\n",
       "      <td>No</td>\n",
       "      <td>No</td>\n",
       "      <td>Month-to-month</td>\n",
       "      <td>Yes</td>\n",
       "      <td>Electronic check</td>\n",
       "      <td>29.85</td>\n",
       "      <td>29.85</td>\n",
       "      <td>No</td>\n",
       "    </tr>\n",
       "    <tr>\n",
       "      <td>1</td>\n",
       "      <td>5575-GNVDE</td>\n",
       "      <td>Male</td>\n",
       "      <td>0</td>\n",
       "      <td>No</td>\n",
       "      <td>No</td>\n",
       "      <td>34</td>\n",
       "      <td>Yes</td>\n",
       "      <td>No</td>\n",
       "      <td>DSL</td>\n",
       "      <td>Yes</td>\n",
       "      <td>...</td>\n",
       "      <td>Yes</td>\n",
       "      <td>No</td>\n",
       "      <td>No</td>\n",
       "      <td>No</td>\n",
       "      <td>One year</td>\n",
       "      <td>No</td>\n",
       "      <td>Mailed check</td>\n",
       "      <td>56.95</td>\n",
       "      <td>1889.5</td>\n",
       "      <td>No</td>\n",
       "    </tr>\n",
       "    <tr>\n",
       "      <td>2</td>\n",
       "      <td>3668-QPYBK</td>\n",
       "      <td>Male</td>\n",
       "      <td>0</td>\n",
       "      <td>No</td>\n",
       "      <td>No</td>\n",
       "      <td>2</td>\n",
       "      <td>Yes</td>\n",
       "      <td>No</td>\n",
       "      <td>DSL</td>\n",
       "      <td>Yes</td>\n",
       "      <td>...</td>\n",
       "      <td>No</td>\n",
       "      <td>No</td>\n",
       "      <td>No</td>\n",
       "      <td>No</td>\n",
       "      <td>Month-to-month</td>\n",
       "      <td>Yes</td>\n",
       "      <td>Mailed check</td>\n",
       "      <td>53.85</td>\n",
       "      <td>108.15</td>\n",
       "      <td>Yes</td>\n",
       "    </tr>\n",
       "    <tr>\n",
       "      <td>3</td>\n",
       "      <td>7795-CFOCW</td>\n",
       "      <td>Male</td>\n",
       "      <td>0</td>\n",
       "      <td>No</td>\n",
       "      <td>No</td>\n",
       "      <td>45</td>\n",
       "      <td>No</td>\n",
       "      <td>No phone service</td>\n",
       "      <td>DSL</td>\n",
       "      <td>Yes</td>\n",
       "      <td>...</td>\n",
       "      <td>Yes</td>\n",
       "      <td>Yes</td>\n",
       "      <td>No</td>\n",
       "      <td>No</td>\n",
       "      <td>One year</td>\n",
       "      <td>No</td>\n",
       "      <td>Bank transfer (automatic)</td>\n",
       "      <td>42.30</td>\n",
       "      <td>1840.75</td>\n",
       "      <td>No</td>\n",
       "    </tr>\n",
       "    <tr>\n",
       "      <td>4</td>\n",
       "      <td>9237-HQITU</td>\n",
       "      <td>Female</td>\n",
       "      <td>0</td>\n",
       "      <td>No</td>\n",
       "      <td>No</td>\n",
       "      <td>2</td>\n",
       "      <td>Yes</td>\n",
       "      <td>No</td>\n",
       "      <td>Fiber optic</td>\n",
       "      <td>No</td>\n",
       "      <td>...</td>\n",
       "      <td>No</td>\n",
       "      <td>No</td>\n",
       "      <td>No</td>\n",
       "      <td>No</td>\n",
       "      <td>Month-to-month</td>\n",
       "      <td>Yes</td>\n",
       "      <td>Electronic check</td>\n",
       "      <td>70.70</td>\n",
       "      <td>151.65</td>\n",
       "      <td>Yes</td>\n",
       "    </tr>\n",
       "  </tbody>\n",
       "</table>\n",
       "<p>5 rows × 21 columns</p>\n",
       "</div>"
      ],
      "text/plain": [
       "   customerID  gender  SeniorCitizen Partner Dependents  tenure PhoneService  \\\n",
       "0  7590-VHVEG  Female              0     Yes         No       1           No   \n",
       "1  5575-GNVDE    Male              0      No         No      34          Yes   \n",
       "2  3668-QPYBK    Male              0      No         No       2          Yes   \n",
       "3  7795-CFOCW    Male              0      No         No      45           No   \n",
       "4  9237-HQITU  Female              0      No         No       2          Yes   \n",
       "\n",
       "      MultipleLines InternetService OnlineSecurity  ... DeviceProtection  \\\n",
       "0  No phone service             DSL             No  ...               No   \n",
       "1                No             DSL            Yes  ...              Yes   \n",
       "2                No             DSL            Yes  ...               No   \n",
       "3  No phone service             DSL            Yes  ...              Yes   \n",
       "4                No     Fiber optic             No  ...               No   \n",
       "\n",
       "  TechSupport StreamingTV StreamingMovies        Contract PaperlessBilling  \\\n",
       "0          No          No              No  Month-to-month              Yes   \n",
       "1          No          No              No        One year               No   \n",
       "2          No          No              No  Month-to-month              Yes   \n",
       "3         Yes          No              No        One year               No   \n",
       "4          No          No              No  Month-to-month              Yes   \n",
       "\n",
       "               PaymentMethod MonthlyCharges  TotalCharges Churn  \n",
       "0           Electronic check          29.85         29.85    No  \n",
       "1               Mailed check          56.95        1889.5    No  \n",
       "2               Mailed check          53.85        108.15   Yes  \n",
       "3  Bank transfer (automatic)          42.30       1840.75    No  \n",
       "4           Electronic check          70.70        151.65   Yes  \n",
       "\n",
       "[5 rows x 21 columns]"
      ]
     },
     "execution_count": 3,
     "metadata": {},
     "output_type": "execute_result"
    }
   ],
   "source": [
    "df.head()"
   ]
  },
  {
   "cell_type": "code",
   "execution_count": 4,
   "metadata": {},
   "outputs": [
    {
     "name": "stdout",
     "output_type": "stream",
     "text": [
      "<class 'pandas.core.frame.DataFrame'>\n",
      "RangeIndex: 7043 entries, 0 to 7042\n",
      "Data columns (total 21 columns):\n",
      "customerID          7043 non-null object\n",
      "gender              7043 non-null object\n",
      "SeniorCitizen       7043 non-null int64\n",
      "Partner             7043 non-null object\n",
      "Dependents          7043 non-null object\n",
      "tenure              7043 non-null int64\n",
      "PhoneService        7043 non-null object\n",
      "MultipleLines       7043 non-null object\n",
      "InternetService     7043 non-null object\n",
      "OnlineSecurity      7043 non-null object\n",
      "OnlineBackup        7043 non-null object\n",
      "DeviceProtection    7043 non-null object\n",
      "TechSupport         7043 non-null object\n",
      "StreamingTV         7043 non-null object\n",
      "StreamingMovies     7043 non-null object\n",
      "Contract            7043 non-null object\n",
      "PaperlessBilling    7043 non-null object\n",
      "PaymentMethod       7043 non-null object\n",
      "MonthlyCharges      7043 non-null float64\n",
      "TotalCharges        7043 non-null object\n",
      "Churn               7043 non-null object\n",
      "dtypes: float64(1), int64(2), object(18)\n",
      "memory usage: 1.1+ MB\n"
     ]
    }
   ],
   "source": [
    "df.info()"
   ]
  },
  {
   "cell_type": "code",
   "execution_count": 5,
   "metadata": {},
   "outputs": [],
   "source": [
    "df['TotalCharges'] = df['TotalCharges'].replace(' ', '0').astype('float64')"
   ]
  },
  {
   "cell_type": "code",
   "execution_count": 6,
   "metadata": {},
   "outputs": [
    {
     "name": "stdout",
     "output_type": "stream",
     "text": [
      "No     5174\n",
      "Yes    1869\n",
      "Name: Churn, dtype: int64\n"
     ]
    },
    {
     "data": {
      "image/png": "[encoded data removed]",
      "text/plain": [
       "<Figure size 432x288 with 1 Axes>"
      ]
     },
     "metadata": {
      "needs_background": "light"
     },
     "output_type": "display_data"
    }
   ],
   "source": [
    "print(df['Churn'].value_counts())\n",
    "sns.countplot('Churn', data=df, palette='winter')\n",
    "plt.show()"
   ]
  },
  {
   "cell_type": "markdown",
   "metadata": {},
   "source": [
    "Let's build histograms for categorical variables."
   ]
  },
  {
   "cell_type": "code",
   "execution_count": 7,
   "metadata": {},
   "outputs": [],
   "source": [
    "def build_histograms(data, features):\n",
    "    n_rows = (len(features) + 1) // 2\n",
    "    fig, axs = plt.subplots(n_rows, 2, figsize=(16, n_rows*6))\n",
    "    fig.subplots_adjust(hspace=0.4)\n",
    "    for feature, ax in zip(features, axs.flatten()):\n",
    "        sns.countplot(feature, hue='Churn', data=data, palette='muted', ax=ax)"
   ]
  },
  {
   "cell_type": "code",
   "execution_count": 8,
   "metadata": {},
   "outputs": [
    {
     "data": {
      "image/png": "[encoded data removed]",
      "text/plain": [
       "<Figure size 1152x2160 with 10 Axes>"
      ]
     },
     "metadata": {
      "needs_background": "light"
     },
     "output_type": "display_data"
    }
   ],
   "source": [
    "cat_features = ['MultipleLines', 'InternetService', 'OnlineSecurity', 'OnlineBackup', 'DeviceProtection',\n",
    "                'TechSupport', 'StreamingTV', 'StreamingMovies', 'Contract', 'PaymentMethod']\n",
    "build_histograms(df, cat_features)"
   ]
  },
  {
   "cell_type": "markdown",
   "metadata": {},
   "source": [
    "Look at binary variables."
   ]
  },
  {
   "cell_type": "code",
   "execution_count": 9,
   "metadata": {},
   "outputs": [
    {
     "data": {
      "image/png": "[encoded data removed]",
      "text/plain": [
       "<Figure size 1152x1296 with 6 Axes>"
      ]
     },
     "metadata": {
      "needs_background": "light"
     },
     "output_type": "display_data"
    }
   ],
   "source": [
    "bin_features = ['gender', 'SeniorCitizen', 'Partner', 'Dependents', 'PhoneService', 'PaperlessBilling']\n",
    "\n",
    "build_histograms(df, bin_features)"
   ]
  },
  {
   "cell_type": "markdown",
   "metadata": {},
   "source": [
    "Observe the numeric features."
   ]
  },
  {
   "cell_type": "code",
   "execution_count": 10,
   "metadata": {},
   "outputs": [
    {
     "data": {
      "image/png": "[encoded data removed]",
      "text/plain": [
       "<Figure size 1152x864 with 4 Axes>"
      ]
     },
     "metadata": {
      "needs_background": "light"
     },
     "output_type": "display_data"
    }
   ],
   "source": [
    "num_features = ['tenure', 'MonthlyCharges', 'TotalCharges']\n",
    "\n",
    "n_rows = (len(num_features) + 1) // 2\n",
    "fig, axs = plt.subplots(n_rows, 2, figsize=(16, n_rows*6))\n",
    "fig.subplots_adjust(hspace=0.4)\n",
    "for feature, ax in zip(num_features, axs.flatten()):\n",
    "    sns.distplot(df[df['Churn'] == 'No'][feature], ax=ax, kde=False)\n",
    "    sns.distplot(df[df['Churn'] == 'Yes'][feature], ax=ax, kde=False)"
   ]
  },
  {
   "cell_type": "markdown",
   "metadata": {},
   "source": [
    "Compute the Mann-Whitney rank test on churn and not churn samples."
   ]
  },
  {
   "cell_type": "code",
   "execution_count": 11,
   "metadata": {},
   "outputs": [
    {
     "name": "stdout",
     "output_type": "stream",
     "text": [
      "MannwhitneyuResult(statistic=2515538.0, pvalue=1.209817758975933e-208)\n",
      "MannwhitneyuResult(statistic=3667080.5, pvalue=1.6558138259942924e-54)\n",
      "MannwhitneyuResult(statistic=3381224.0, pvalue=2.842516933103657e-83)\n"
     ]
    }
   ],
   "source": [
    "for feature in num_features:\n",
    "    print(mannwhitneyu(df[df['Churn'] == 'No'][feature],\n",
    "                       df[df['Churn'] == 'Yes'][feature]))"
   ]
  },
  {
   "cell_type": "markdown",
   "metadata": {},
   "source": [
    "### Summary\n",
    "1. The dataset has 7043 observations and 21 features.\n",
    "1. The dataset is unbalanced.\n",
    "1. Customers who have fiber optic internet service and do not have online security, online backup, device protection, tech support are more likely to churn.\n",
    "1. Cutomers with month-to-month contract, paperless billing and electronic check are more likely to churn.\n",
    "1. Senior citizens who have not partner or not dependents are more likey to churn.\n",
    "1. According to histograms, customers with tenure < 5 months are likely to churn. But Mann-Whitney U test says that all numeric features are significant.\n",
    "\n",
    "### To do\n",
    "1. All the columns make sense except 'customerID' – should be dropped.\n",
    "1. Numerical features shoud be normalized in case of using a linear model.\n",
    "1. 'TotalCharges' has missing data. The missing data should be changed to 0.\n",
    "1. The next features should be casted to boolean: gender, SeniorCitizen, Partner, Dependents, PhoneService, PaperlessBilling"
   ]
  },
  {
   "cell_type": "markdown",
   "metadata": {},
   "source": [
    "# Data cleaning"
   ]
  },
  {
   "cell_type": "markdown",
   "metadata": {},
   "source": [
    "Split data to train and holdout."
   ]
  },
  {
   "cell_type": "code",
   "execution_count": 12,
   "metadata": {},
   "outputs": [
    {
     "data": {
      "text/plain": [
       "((5634, 20), (1409, 20), (5634,), (1409,))"
      ]
     },
     "execution_count": 12,
     "metadata": {},
     "output_type": "execute_result"
    }
   ],
   "source": [
    "df = pd.read_csv('WA_Fn-UseC_-Telco-Customer-Churn.csv')\n",
    "df['Churn'] = df['Churn'].map({'Yes': 1, 'No': 0})\n",
    "X_train, X_holdout, y_train, y_holdout = train_test_split(df.drop('Churn', axis='columns'),\n",
    "                                                          df['Churn'],\n",
    "                                                          test_size=0.2,\n",
    "                                                          stratify=df['Churn'])\n",
    "X_train.shape, X_holdout.shape, y_train.shape, y_holdout.shape"
   ]
  },
  {
   "cell_type": "markdown",
   "metadata": {},
   "source": [
    "Delete duplicate observations."
   ]
  },
  {
   "cell_type": "code",
   "execution_count": 13,
   "metadata": {},
   "outputs": [
    {
     "data": {
      "text/plain": [
       "((5634, 20), (5634,))"
      ]
     },
     "execution_count": 13,
     "metadata": {},
     "output_type": "execute_result"
    }
   ],
   "source": [
    "df_train_drop_duplicates = pd.concat([X_train, y_train], axis='columns').drop_duplicates()\n",
    "X_train = df_train_drop_duplicates.drop('Churn', axis='columns')\n",
    "y_train = df_train_drop_duplicates['Churn']\n",
    "X_train.shape, y_train.shape"
   ]
  },
  {
   "cell_type": "markdown",
   "metadata": {},
   "source": [
    "There is no duplicates."
   ]
  },
  {
   "cell_type": "markdown",
   "metadata": {},
   "source": [
    "Handle numeric features. Transform 'TotalCharges' feature to float64."
   ]
  },
  {
   "cell_type": "code",
   "execution_count": 14,
   "metadata": {},
   "outputs": [],
   "source": [
    "class CustomNumericTransformer(BaseEstimator, TransformerMixin):\n",
    "\n",
    "    def fit(self, X, y=None):\n",
    "        return self\n",
    "\n",
    "    def transform(self, X, y=None):\n",
    "        X['TotalCharges'] = X['TotalCharges'].replace(' ', '0').astype('float64')\n",
    "        return X\n",
    "\n",
    "\n",
    "num_transformer = Pipeline([('custom', CustomNumericTransformer()),\n",
    "                            ('scaler', StandardScaler())])"
   ]
  },
  {
   "cell_type": "markdown",
   "metadata": {},
   "source": [
    "Handle categorical features. Use OneHotEncoder for baseline."
   ]
  },
  {
   "cell_type": "code",
   "execution_count": 15,
   "metadata": {},
   "outputs": [],
   "source": [
    "cat_transformer = Pipeline([('encoder', OneHotEncoder())])"
   ]
  },
  {
   "cell_type": "markdown",
   "metadata": {},
   "source": [
    "Handle binary features. Transform every feature individually."
   ]
  },
  {
   "cell_type": "code",
   "execution_count": 16,
   "metadata": {},
   "outputs": [],
   "source": [
    "class CustomBinaryTransformer(BaseEstimator, TransformerMixin):\n",
    "\n",
    "    def fit(self, X, y=None):\n",
    "        return self\n",
    "\n",
    "    def transform(self, X, y=None):\n",
    "        X['gender'] = X['gender'].map({'Male': 1, 'Female': 0})\n",
    "        for feature in ['Partner', 'Dependents', 'PhoneService', 'PaperlessBilling']:\n",
    "            X[feature] = X[feature].map({'Yes': 1, 'No': 0})\n",
    "        return X\n",
    "\n",
    "\n",
    "bin_transformer = Pipeline([('custom', CustomBinaryTransformer())])"
   ]
  },
  {
   "cell_type": "markdown",
   "metadata": {},
   "source": [
    "Bring all pipelines together."
   ]
  },
  {
   "cell_type": "code",
   "execution_count": 17,
   "metadata": {},
   "outputs": [],
   "source": [
    "preprocessor = ColumnTransformer([('num', num_transformer, num_features),\n",
    "                                  ('cat', cat_transformer, cat_features),\n",
    "                                  ('bin', bin_transformer, bin_features)])"
   ]
  },
  {
   "cell_type": "markdown",
   "metadata": {},
   "source": [
    "## Baseline"
   ]
  },
  {
   "cell_type": "markdown",
   "metadata": {},
   "source": [
    "Build the baselines for logistic regression, random forest and gradient boosting. The target metric is ROC AUC."
   ]
  },
  {
   "cell_type": "code",
   "execution_count": 18,
   "metadata": {},
   "outputs": [
    {
     "name": "stderr",
     "output_type": "stream",
     "text": [
      "/usr/local/anaconda3/lib/python3.7/site-packages/sklearn/model_selection/_split.py:1978: FutureWarning: The default value of cv will change from 3 to 5 in version 0.22. Specify it explicitly to silence this warning.\n",
      "  warnings.warn(CV_WARNING, FutureWarning)\n",
      "/usr/local/anaconda3/lib/python3.7/site-packages/sklearn/model_selection/_split.py:1978: FutureWarning: The default value of cv will change from 3 to 5 in version 0.22. Specify it explicitly to silence this warning.\n",
      "  warnings.warn(CV_WARNING, FutureWarning)\n",
      "/usr/local/anaconda3/lib/python3.7/site-packages/sklearn/model_selection/_split.py:1978: FutureWarning: The default value of cv will change from 3 to 5 in version 0.22. Specify it explicitly to silence this warning.\n",
      "  warnings.warn(CV_WARNING, FutureWarning)\n"
     ]
    },
    {
     "name": "stdout",
     "output_type": "stream",
     "text": [
      "Logistic Regression: 0.8456353296059884\n",
      "Random Forest: 0.7997276112456726\n",
      "Gradient Boosting: 0.8472809925606214\n"
     ]
    }
   ],
   "source": [
    "cross_val_scores = []\n",
    "for estimator in [LogisticRegression(class_weight='balanced'),\n",
    "                  RandomForestClassifier(class_weight='balanced'),\n",
    "                  GradientBoostingClassifier()]:\n",
    "    pipe = Pipeline([('preprocessor', preprocessor),\n",
    "                     ('estimator', estimator)])\n",
    "    score = cross_val_score(pipe,\n",
    "                            X_train,\n",
    "                            y_train,\n",
    "                            scoring='roc_auc',\n",
    "                            n_jobs=-1)\n",
    "    cross_val_scores.append(score.mean())\n",
    "print('Logistic Regression:', cross_val_scores[0])\n",
    "print('Random Forest:', cross_val_scores[1])\n",
    "print('Gradient Boosting:', cross_val_scores[2])"
   ]
  },
  {
   "cell_type": "markdown",
   "metadata": {},
   "source": [
    "Logistic regression and gradient boosting show the same perforamnce in cross validation. Let's check all models with holdout dataset."
   ]
  },
  {
   "cell_type": "code",
   "execution_count": 19,
   "metadata": {},
   "outputs": [
    {
     "name": "stderr",
     "output_type": "stream",
     "text": [
      "/usr/local/anaconda3/lib/python3.7/site-packages/sklearn/linear_model/logistic.py:432: FutureWarning: Default solver will be changed to 'lbfgs' in 0.22. Specify a solver to silence this warning.\n",
      "  FutureWarning)\n",
      "/usr/local/anaconda3/lib/python3.7/site-packages/sklearn/ensemble/forest.py:245: FutureWarning: The default value of n_estimators will change from 10 in version 0.20 to 100 in 0.22.\n",
      "  \"10 in version 0.20 to 100 in 0.22.\", FutureWarning)\n"
     ]
    },
    {
     "name": "stdout",
     "output_type": "stream",
     "text": [
      "Logistic Regression: 0.839443023586246\n",
      "Random Forest: 0.7875429486682683\n",
      "Gradient Boosting: 0.8435686791185513\n"
     ]
    }
   ],
   "source": [
    "holdout_scores = []\n",
    "for estimator in [LogisticRegression(class_weight='balanced'),\n",
    "                  RandomForestClassifier(class_weight='balanced'),\n",
    "                  GradientBoostingClassifier()]:\n",
    "    pipe = Pipeline([('preprocessor', preprocessor),\n",
    "                     ('estimator', estimator)])\n",
    "    pipe.fit(X_train, y_train)\n",
    "    score = roc_auc_score(y_holdout, pipe.predict_proba(X_holdout)[:, 1])\n",
    "    holdout_scores.append(score)\n",
    "print('Logistic Regression:', holdout_scores[0])\n",
    "print('Random Forest:', holdout_scores[1])\n",
    "print('Gradient Boosting:', holdout_scores[2])"
   ]
  },
  {
   "cell_type": "markdown",
   "metadata": {},
   "source": [
    "Gradient boosting is better in both cross validation and holdout test."
   ]
  },
  {
   "cell_type": "code",
   "execution_count": 20,
   "metadata": {},
   "outputs": [],
   "source": [
    "grad_boost_pipe = Pipeline([('preprocessor', preprocessor),\n",
    "                            ('estimator', GradientBoostingClassifier())])"
   ]
  },
  {
   "cell_type": "markdown",
   "metadata": {},
   "source": [
    "## Fitting parameters"
   ]
  },
  {
   "cell_type": "markdown",
   "metadata": {},
   "source": [
    "Finding the best categorical feature encoder."
   ]
  },
  {
   "cell_type": "code",
   "execution_count": 24,
   "metadata": {},
   "outputs": [
    {
     "name": "stderr",
     "output_type": "stream",
     "text": [
      "/usr/local/anaconda3/lib/python3.7/site-packages/sklearn/model_selection/_split.py:1978: FutureWarning: The default value of cv will change from 3 to 5 in version 0.22. Specify it explicitly to silence this warning.\n",
      "  warnings.warn(CV_WARNING, FutureWarning)\n",
      "/usr/local/anaconda3/lib/python3.7/site-packages/sklearn/model_selection/_split.py:1978: FutureWarning: The default value of cv will change from 3 to 5 in version 0.22. Specify it explicitly to silence this warning.\n",
      "  warnings.warn(CV_WARNING, FutureWarning)\n",
      "/usr/local/anaconda3/lib/python3.7/site-packages/sklearn/model_selection/_split.py:1978: FutureWarning: The default value of cv will change from 3 to 5 in version 0.22. Specify it explicitly to silence this warning.\n",
      "  warnings.warn(CV_WARNING, FutureWarning)\n",
      "/usr/local/anaconda3/lib/python3.7/site-packages/sklearn/model_selection/_split.py:1978: FutureWarning: The default value of cv will change from 3 to 5 in version 0.22. Specify it explicitly to silence this warning.\n",
      "  warnings.warn(CV_WARNING, FutureWarning)\n"
     ]
    },
    {
     "name": "stdout",
     "output_type": "stream",
     "text": [
      "WOEEncoder: 0.8471866346159787\n",
      "OneHotEncoder: 0.847317126581534\n",
      "SumEncoder: 0.8472450731370498\n",
      "OrdinalEncoder: 0.8465999607391356\n",
      "The best is: OneHotEncoder\n"
     ]
    }
   ],
   "source": [
    "encoder_scores = []\n",
    "encoders = [WOEEncoder(), OneHotEncoder(), SumEncoder(), OrdinalEncoder()]\n",
    "for encoder in encoders:\n",
    "    preprocessor = ColumnTransformer([('num', num_transformer, num_features),\n",
    "                                      ('cat', encoder, cat_features),\n",
    "                                      ('bin', bin_transformer, bin_features)])\n",
    "    grad_boost_pipe = Pipeline([('preprocessor', preprocessor),\n",
    "                                ('estimator', GradientBoostingClassifier())])\n",
    "    score = cross_val_score(grad_boost_pipe,\n",
    "                            X_train,\n",
    "                            y_train,\n",
    "                            scoring='roc_auc',\n",
    "                            n_jobs=-1)\n",
    "    encoder_scores.append(score.mean())\n",
    "for encoder, score in zip(encoders, encoder_scores):\n",
    "    print(type(encoder).__name__ + ':', score)\n",
    "print('The best is:', type(encoders[np.argmax(encoder_scores)]).__name__)"
   ]
  },
  {
   "cell_type": "code",
   "execution_count": 26,
   "metadata": {},
   "outputs": [],
   "source": [
    "preprocessor = ColumnTransformer([('num', num_transformer, num_features),\n",
    "                                  ('cat', OneHotEncoder(), cat_features),\n",
    "                                  ('bin', bin_transformer, bin_features)])\n",
    "grad_boost_pipe = Pipeline([('preprocessor', preprocessor),\n",
    "                            ('estimator', GradientBoostingClassifier())])"
   ]
  },
  {
   "cell_type": "markdown",
   "metadata": {},
   "source": [
    "Select the best boosting parameters."
   ]
  },
  {
   "cell_type": "code",
   "execution_count": 38,
   "metadata": {},
   "outputs": [
    {
     "name": "stdout",
     "output_type": "stream",
     "text": [
      "Fitting 3 folds for each of 162 candidates, totalling 486 fits\n"
     ]
    },
    {
     "name": "stderr",
     "output_type": "stream",
     "text": [
      "[Parallel(n_jobs=-1)]: Using backend LokyBackend with 4 concurrent workers.\n",
      "[Parallel(n_jobs=-1)]: Done   1 tasks      | elapsed:    7.1s\n",
      "[Parallel(n_jobs=-1)]: Done   2 tasks      | elapsed:    7.1s\n",
      "[Parallel(n_jobs=-1)]: Done   3 tasks      | elapsed:    7.2s\n",
      "[Parallel(n_jobs=-1)]: Done   4 tasks      | elapsed:    7.3s\n",
      "[Parallel(n_jobs=-1)]: Done   5 tasks      | elapsed:    8.4s\n",
      "[Parallel(n_jobs=-1)]: Done   6 tasks      | elapsed:    8.4s\n",
      "[Parallel(n_jobs=-1)]: Done   7 tasks      | elapsed:    8.8s\n",
      "[Parallel(n_jobs=-1)]: Done   8 tasks      | elapsed:    8.8s\n",
      "[Parallel(n_jobs=-1)]: Done   9 tasks      | elapsed:    9.8s\n",
      "[Parallel(n_jobs=-1)]: Done  10 tasks      | elapsed:   10.3s\n",
      "[Parallel(n_jobs=-1)]: Done  11 tasks      | elapsed:   10.5s\n",
      "[Parallel(n_jobs=-1)]: Done  12 tasks      | elapsed:   10.7s\n",
      "[Parallel(n_jobs=-1)]: Done  13 tasks      | elapsed:   12.1s\n",
      "[Parallel(n_jobs=-1)]: Done  14 tasks      | elapsed:   12.6s\n",
      "[Parallel(n_jobs=-1)]: Done  15 tasks      | elapsed:   13.0s\n",
      "[Parallel(n_jobs=-1)]: Done  16 tasks      | elapsed:   13.6s\n",
      "[Parallel(n_jobs=-1)]: Done  17 tasks      | elapsed:   14.9s\n",
      "[Parallel(n_jobs=-1)]: Done  18 tasks      | elapsed:   15.4s\n",
      "[Parallel(n_jobs=-1)]: Done  19 tasks      | elapsed:   15.6s\n",
      "[Parallel(n_jobs=-1)]: Done  20 tasks      | elapsed:   16.3s\n",
      "[Parallel(n_jobs=-1)]: Done  21 tasks      | elapsed:   17.9s\n",
      "[Parallel(n_jobs=-1)]: Done  22 tasks      | elapsed:   19.6s\n",
      "[Parallel(n_jobs=-1)]: Done  23 tasks      | elapsed:   19.7s\n",
      "[Parallel(n_jobs=-1)]: Done  24 tasks      | elapsed:   20.5s\n",
      "[Parallel(n_jobs=-1)]: Done  25 tasks      | elapsed:   22.3s\n",
      "[Parallel(n_jobs=-1)]: Done  26 tasks      | elapsed:   23.7s\n",
      "[Parallel(n_jobs=-1)]: Done  27 tasks      | elapsed:   23.7s\n",
      "[Parallel(n_jobs=-1)]: Done  28 tasks      | elapsed:   25.1s\n",
      "[Parallel(n_jobs=-1)]: Done  29 tasks      | elapsed:   25.2s\n",
      "[Parallel(n_jobs=-1)]: Done  30 tasks      | elapsed:   25.3s\n",
      "[Parallel(n_jobs=-1)]: Done  31 tasks      | elapsed:   25.3s\n",
      "[Parallel(n_jobs=-1)]: Done  32 tasks      | elapsed:   26.3s\n",
      "[Parallel(n_jobs=-1)]: Done  33 tasks      | elapsed:   26.5s\n",
      "[Parallel(n_jobs=-1)]: Done  34 tasks      | elapsed:   26.9s\n",
      "[Parallel(n_jobs=-1)]: Done  35 tasks      | elapsed:   26.9s\n",
      "[Parallel(n_jobs=-1)]: Done  36 tasks      | elapsed:   28.1s\n",
      "[Parallel(n_jobs=-1)]: Done  37 tasks      | elapsed:   28.9s\n",
      "[Parallel(n_jobs=-1)]: Done  38 tasks      | elapsed:   29.2s\n",
      "[Parallel(n_jobs=-1)]: Done  39 tasks      | elapsed:   29.3s\n",
      "[Parallel(n_jobs=-1)]: Done  40 tasks      | elapsed:   30.9s\n",
      "[Parallel(n_jobs=-1)]: Done  41 tasks      | elapsed:   31.4s\n",
      "[Parallel(n_jobs=-1)]: Done  42 tasks      | elapsed:   31.8s\n",
      "[Parallel(n_jobs=-1)]: Done  43 tasks      | elapsed:   32.3s\n",
      "[Parallel(n_jobs=-1)]: Done  44 tasks      | elapsed:   33.9s\n",
      "[Parallel(n_jobs=-1)]: Done  45 tasks      | elapsed:   34.5s\n",
      "[Parallel(n_jobs=-1)]: Done  46 tasks      | elapsed:   35.1s\n",
      "[Parallel(n_jobs=-1)]: Done  47 tasks      | elapsed:   35.6s\n",
      "[Parallel(n_jobs=-1)]: Done  48 tasks      | elapsed:   37.1s\n",
      "[Parallel(n_jobs=-1)]: Done  49 tasks      | elapsed:   38.3s\n",
      "[Parallel(n_jobs=-1)]: Done  50 tasks      | elapsed:   38.8s\n",
      "[Parallel(n_jobs=-1)]: Done  51 tasks      | elapsed:   39.8s\n",
      "[Parallel(n_jobs=-1)]: Done  52 tasks      | elapsed:   41.6s\n",
      "[Parallel(n_jobs=-1)]: Done  53 tasks      | elapsed:   42.3s\n",
      "[Parallel(n_jobs=-1)]: Done  54 tasks      | elapsed:   44.0s\n",
      "[Parallel(n_jobs=-1)]: Done  55 tasks      | elapsed:   44.2s\n",
      "[Parallel(n_jobs=-1)]: Done  56 tasks      | elapsed:   44.5s\n",
      "[Parallel(n_jobs=-1)]: Done  57 tasks      | elapsed:   44.6s\n",
      "[Parallel(n_jobs=-1)]: Done  58 tasks      | elapsed:   46.1s\n",
      "[Parallel(n_jobs=-1)]: Done  59 tasks      | elapsed:   46.3s\n",
      "[Parallel(n_jobs=-1)]: Done  60 tasks      | elapsed:   46.6s\n",
      "[Parallel(n_jobs=-1)]: Done  61 tasks      | elapsed:   47.2s\n",
      "[Parallel(n_jobs=-1)]: Done  62 tasks      | elapsed:   48.8s\n",
      "[Parallel(n_jobs=-1)]: Done  63 tasks      | elapsed:   49.0s\n",
      "[Parallel(n_jobs=-1)]: Done  64 tasks      | elapsed:   50.0s\n",
      "[Parallel(n_jobs=-1)]: Done  65 tasks      | elapsed:   50.4s\n",
      "[Parallel(n_jobs=-1)]: Done  66 tasks      | elapsed:   51.9s\n",
      "[Parallel(n_jobs=-1)]: Done  67 tasks      | elapsed:   52.6s\n",
      "[Parallel(n_jobs=-1)]: Done  68 tasks      | elapsed:   53.5s\n",
      "[Parallel(n_jobs=-1)]: Done  69 tasks      | elapsed:   54.0s\n",
      "[Parallel(n_jobs=-1)]: Done  70 tasks      | elapsed:   56.3s\n",
      "[Parallel(n_jobs=-1)]: Done  71 tasks      | elapsed:   57.0s\n",
      "[Parallel(n_jobs=-1)]: Done  72 tasks      | elapsed:   58.0s\n",
      "[Parallel(n_jobs=-1)]: Done  73 tasks      | elapsed:   58.4s\n",
      "[Parallel(n_jobs=-1)]: Done  74 tasks      | elapsed:  1.0min\n",
      "[Parallel(n_jobs=-1)]: Done  75 tasks      | elapsed:  1.0min\n",
      "[Parallel(n_jobs=-1)]: Done  76 tasks      | elapsed:  1.0min\n",
      "[Parallel(n_jobs=-1)]: Done  77 tasks      | elapsed:  1.1min\n",
      "[Parallel(n_jobs=-1)]: Done  78 tasks      | elapsed:  1.1min\n",
      "[Parallel(n_jobs=-1)]: Done  79 tasks      | elapsed:  1.1min\n",
      "[Parallel(n_jobs=-1)]: Done  80 tasks      | elapsed:  1.1min\n",
      "[Parallel(n_jobs=-1)]: Done  81 tasks      | elapsed:  1.1min\n",
      "[Parallel(n_jobs=-1)]: Done  82 tasks      | elapsed:  1.2min\n",
      "[Parallel(n_jobs=-1)]: Done  83 tasks      | elapsed:  1.2min\n",
      "[Parallel(n_jobs=-1)]: Done  84 tasks      | elapsed:  1.2min\n",
      "[Parallel(n_jobs=-1)]: Done  85 tasks      | elapsed:  1.2min\n",
      "[Parallel(n_jobs=-1)]: Done  86 tasks      | elapsed:  1.2min\n",
      "[Parallel(n_jobs=-1)]: Done  87 tasks      | elapsed:  1.2min\n",
      "[Parallel(n_jobs=-1)]: Done  88 tasks      | elapsed:  1.2min\n",
      "[Parallel(n_jobs=-1)]: Done  89 tasks      | elapsed:  1.2min\n",
      "[Parallel(n_jobs=-1)]: Done  90 tasks      | elapsed:  1.2min\n",
      "[Parallel(n_jobs=-1)]: Done  91 tasks      | elapsed:  1.3min\n",
      "[Parallel(n_jobs=-1)]: Done  92 tasks      | elapsed:  1.3min\n",
      "[Parallel(n_jobs=-1)]: Done  93 tasks      | elapsed:  1.3min\n",
      "[Parallel(n_jobs=-1)]: Done  94 tasks      | elapsed:  1.3min\n",
      "[Parallel(n_jobs=-1)]: Done  95 tasks      | elapsed:  1.3min\n",
      "[Parallel(n_jobs=-1)]: Done  96 tasks      | elapsed:  1.3min\n",
      "[Parallel(n_jobs=-1)]: Done  97 tasks      | elapsed:  1.4min\n",
      "[Parallel(n_jobs=-1)]: Done  98 tasks      | elapsed:  1.4min\n",
      "[Parallel(n_jobs=-1)]: Done  99 tasks      | elapsed:  1.4min\n",
      "[Parallel(n_jobs=-1)]: Done 100 tasks      | elapsed:  1.4min\n",
      "[Parallel(n_jobs=-1)]: Done 101 tasks      | elapsed:  1.4min\n",
      "[Parallel(n_jobs=-1)]: Done 102 tasks      | elapsed:  1.4min\n",
      "[Parallel(n_jobs=-1)]: Done 103 tasks      | elapsed:  1.5min\n",
      "[Parallel(n_jobs=-1)]: Done 104 tasks      | elapsed:  1.5min\n",
      "[Parallel(n_jobs=-1)]: Done 105 tasks      | elapsed:  1.5min\n",
      "[Parallel(n_jobs=-1)]: Done 106 tasks      | elapsed:  1.5min\n",
      "[Parallel(n_jobs=-1)]: Done 107 tasks      | elapsed:  1.5min\n",
      "[Parallel(n_jobs=-1)]: Done 108 tasks      | elapsed:  1.6min\n",
      "[Parallel(n_jobs=-1)]: Done 109 tasks      | elapsed:  1.6min\n",
      "[Parallel(n_jobs=-1)]: Done 110 tasks      | elapsed:  1.6min\n",
      "[Parallel(n_jobs=-1)]: Done 111 tasks      | elapsed:  1.6min\n",
      "[Parallel(n_jobs=-1)]: Done 112 tasks      | elapsed:  1.6min\n",
      "[Parallel(n_jobs=-1)]: Done 113 tasks      | elapsed:  1.6min\n",
      "[Parallel(n_jobs=-1)]: Done 114 tasks      | elapsed:  1.6min\n",
      "[Parallel(n_jobs=-1)]: Done 115 tasks      | elapsed:  1.6min\n",
      "[Parallel(n_jobs=-1)]: Done 116 tasks      | elapsed:  1.7min\n",
      "[Parallel(n_jobs=-1)]: Done 117 tasks      | elapsed:  1.7min\n",
      "[Parallel(n_jobs=-1)]: Done 118 tasks      | elapsed:  1.7min\n",
      "[Parallel(n_jobs=-1)]: Done 119 tasks      | elapsed:  1.7min\n",
      "[Parallel(n_jobs=-1)]: Done 120 tasks      | elapsed:  1.7min\n",
      "[Parallel(n_jobs=-1)]: Done 121 tasks      | elapsed:  1.8min\n",
      "[Parallel(n_jobs=-1)]: Done 122 tasks      | elapsed:  1.8min\n",
      "[Parallel(n_jobs=-1)]: Done 123 tasks      | elapsed:  1.8min\n",
      "[Parallel(n_jobs=-1)]: Done 124 tasks      | elapsed:  1.8min\n",
      "[Parallel(n_jobs=-1)]: Done 125 tasks      | elapsed:  1.9min\n",
      "[Parallel(n_jobs=-1)]: Done 126 tasks      | elapsed:  1.9min\n",
      "[Parallel(n_jobs=-1)]: Done 127 tasks      | elapsed:  1.9min\n",
      "[Parallel(n_jobs=-1)]: Done 128 tasks      | elapsed:  1.9min\n",
      "[Parallel(n_jobs=-1)]: Done 129 tasks      | elapsed:  1.9min\n",
      "[Parallel(n_jobs=-1)]: Done 130 tasks      | elapsed:  2.0min\n",
      "[Parallel(n_jobs=-1)]: Done 131 tasks      | elapsed:  2.0min\n"
     ]
    },
    {
     "name": "stderr",
     "output_type": "stream",
     "text": [
      "[Parallel(n_jobs=-1)]: Done 132 tasks      | elapsed:  2.1min\n",
      "[Parallel(n_jobs=-1)]: Done 133 tasks      | elapsed:  2.1min\n",
      "[Parallel(n_jobs=-1)]: Done 134 tasks      | elapsed:  2.1min\n",
      "[Parallel(n_jobs=-1)]: Done 135 tasks      | elapsed:  2.2min\n",
      "[Parallel(n_jobs=-1)]: Done 136 tasks      | elapsed:  2.2min\n",
      "[Parallel(n_jobs=-1)]: Done 137 tasks      | elapsed:  2.2min\n",
      "[Parallel(n_jobs=-1)]: Done 138 tasks      | elapsed:  2.2min\n",
      "[Parallel(n_jobs=-1)]: Done 139 tasks      | elapsed:  2.2min\n",
      "[Parallel(n_jobs=-1)]: Done 140 tasks      | elapsed:  2.2min\n",
      "[Parallel(n_jobs=-1)]: Done 141 tasks      | elapsed:  2.2min\n",
      "[Parallel(n_jobs=-1)]: Done 142 tasks      | elapsed:  2.2min\n",
      "[Parallel(n_jobs=-1)]: Done 143 tasks      | elapsed:  2.2min\n",
      "[Parallel(n_jobs=-1)]: Done 144 tasks      | elapsed:  2.3min\n",
      "[Parallel(n_jobs=-1)]: Done 145 tasks      | elapsed:  2.3min\n",
      "[Parallel(n_jobs=-1)]: Done 146 tasks      | elapsed:  2.3min\n",
      "[Parallel(n_jobs=-1)]: Done 147 tasks      | elapsed:  2.3min\n",
      "[Parallel(n_jobs=-1)]: Done 148 tasks      | elapsed:  2.3min\n",
      "[Parallel(n_jobs=-1)]: Done 149 tasks      | elapsed:  2.4min\n",
      "[Parallel(n_jobs=-1)]: Done 150 tasks      | elapsed:  2.4min\n",
      "[Parallel(n_jobs=-1)]: Done 151 tasks      | elapsed:  2.4min\n",
      "[Parallel(n_jobs=-1)]: Done 152 tasks      | elapsed:  2.4min\n",
      "[Parallel(n_jobs=-1)]: Done 153 tasks      | elapsed:  2.4min\n",
      "[Parallel(n_jobs=-1)]: Done 154 tasks      | elapsed:  2.5min\n",
      "[Parallel(n_jobs=-1)]: Done 155 tasks      | elapsed:  2.5min\n",
      "[Parallel(n_jobs=-1)]: Done 156 tasks      | elapsed:  2.5min\n",
      "[Parallel(n_jobs=-1)]: Done 157 tasks      | elapsed:  2.5min\n",
      "[Parallel(n_jobs=-1)]: Done 158 tasks      | elapsed:  2.6min\n",
      "[Parallel(n_jobs=-1)]: Done 159 tasks      | elapsed:  2.6min\n",
      "[Parallel(n_jobs=-1)]: Done 160 tasks      | elapsed:  2.6min\n",
      "[Parallel(n_jobs=-1)]: Done 161 tasks      | elapsed:  2.6min\n",
      "[Parallel(n_jobs=-1)]: Done 162 tasks      | elapsed:  2.6min\n",
      "[Parallel(n_jobs=-1)]: Done 163 tasks      | elapsed:  2.6min\n",
      "[Parallel(n_jobs=-1)]: Done 164 tasks      | elapsed:  2.7min\n",
      "[Parallel(n_jobs=-1)]: Done 165 tasks      | elapsed:  2.7min\n",
      "[Parallel(n_jobs=-1)]: Done 166 tasks      | elapsed:  2.7min\n",
      "[Parallel(n_jobs=-1)]: Done 167 tasks      | elapsed:  2.7min\n",
      "[Parallel(n_jobs=-1)]: Done 168 tasks      | elapsed:  2.7min\n",
      "[Parallel(n_jobs=-1)]: Done 169 tasks      | elapsed:  2.7min\n",
      "[Parallel(n_jobs=-1)]: Done 170 tasks      | elapsed:  2.7min\n",
      "[Parallel(n_jobs=-1)]: Done 171 tasks      | elapsed:  2.7min\n",
      "[Parallel(n_jobs=-1)]: Done 172 tasks      | elapsed:  2.7min\n",
      "[Parallel(n_jobs=-1)]: Done 173 tasks      | elapsed:  2.7min\n",
      "[Parallel(n_jobs=-1)]: Done 174 tasks      | elapsed:  2.7min\n",
      "[Parallel(n_jobs=-1)]: Done 175 tasks      | elapsed:  2.8min\n",
      "[Parallel(n_jobs=-1)]: Done 176 tasks      | elapsed:  2.8min\n",
      "[Parallel(n_jobs=-1)]: Done 177 tasks      | elapsed:  2.8min\n",
      "[Parallel(n_jobs=-1)]: Done 178 tasks      | elapsed:  2.8min\n",
      "[Parallel(n_jobs=-1)]: Done 179 tasks      | elapsed:  2.8min\n",
      "[Parallel(n_jobs=-1)]: Done 180 tasks      | elapsed:  2.8min\n",
      "[Parallel(n_jobs=-1)]: Done 181 tasks      | elapsed:  2.8min\n",
      "[Parallel(n_jobs=-1)]: Done 182 tasks      | elapsed:  2.8min\n",
      "[Parallel(n_jobs=-1)]: Done 183 tasks      | elapsed:  2.8min\n",
      "[Parallel(n_jobs=-1)]: Done 184 tasks      | elapsed:  2.9min\n",
      "[Parallel(n_jobs=-1)]: Done 185 tasks      | elapsed:  2.9min\n",
      "[Parallel(n_jobs=-1)]: Done 186 tasks      | elapsed:  2.9min\n",
      "[Parallel(n_jobs=-1)]: Done 187 tasks      | elapsed:  2.9min\n",
      "[Parallel(n_jobs=-1)]: Done 188 tasks      | elapsed:  2.9min\n",
      "[Parallel(n_jobs=-1)]: Done 189 tasks      | elapsed:  2.9min\n",
      "[Parallel(n_jobs=-1)]: Done 190 tasks      | elapsed:  2.9min\n",
      "[Parallel(n_jobs=-1)]: Done 191 tasks      | elapsed:  2.9min\n",
      "[Parallel(n_jobs=-1)]: Done 192 tasks      | elapsed:  2.9min\n",
      "[Parallel(n_jobs=-1)]: Done 193 tasks      | elapsed:  2.9min\n",
      "[Parallel(n_jobs=-1)]: Done 194 tasks      | elapsed:  2.9min\n",
      "[Parallel(n_jobs=-1)]: Done 195 tasks      | elapsed:  3.0min\n",
      "[Parallel(n_jobs=-1)]: Done 196 tasks      | elapsed:  3.0min\n",
      "[Parallel(n_jobs=-1)]: Done 197 tasks      | elapsed:  3.0min\n",
      "[Parallel(n_jobs=-1)]: Done 198 tasks      | elapsed:  3.0min\n",
      "[Parallel(n_jobs=-1)]: Done 199 tasks      | elapsed:  3.0min\n",
      "[Parallel(n_jobs=-1)]: Done 200 tasks      | elapsed:  3.0min\n",
      "[Parallel(n_jobs=-1)]: Done 201 tasks      | elapsed:  3.0min\n",
      "[Parallel(n_jobs=-1)]: Done 202 tasks      | elapsed:  3.0min\n",
      "[Parallel(n_jobs=-1)]: Done 203 tasks      | elapsed:  3.0min\n",
      "[Parallel(n_jobs=-1)]: Done 204 tasks      | elapsed:  3.0min\n",
      "[Parallel(n_jobs=-1)]: Done 205 tasks      | elapsed:  3.0min\n",
      "[Parallel(n_jobs=-1)]: Done 206 tasks      | elapsed:  3.1min\n",
      "[Parallel(n_jobs=-1)]: Done 207 tasks      | elapsed:  3.1min\n",
      "[Parallel(n_jobs=-1)]: Done 208 tasks      | elapsed:  3.1min\n",
      "[Parallel(n_jobs=-1)]: Done 209 tasks      | elapsed:  3.1min\n",
      "[Parallel(n_jobs=-1)]: Done 210 tasks      | elapsed:  3.1min\n",
      "[Parallel(n_jobs=-1)]: Done 211 tasks      | elapsed:  3.1min\n",
      "[Parallel(n_jobs=-1)]: Done 212 tasks      | elapsed:  3.1min\n",
      "[Parallel(n_jobs=-1)]: Done 213 tasks      | elapsed:  3.1min\n",
      "[Parallel(n_jobs=-1)]: Done 214 tasks      | elapsed:  3.2min\n",
      "[Parallel(n_jobs=-1)]: Done 215 tasks      | elapsed:  3.2min\n",
      "[Parallel(n_jobs=-1)]: Done 216 tasks      | elapsed:  3.2min\n",
      "[Parallel(n_jobs=-1)]: Done 217 tasks      | elapsed:  3.2min\n",
      "[Parallel(n_jobs=-1)]: Done 218 tasks      | elapsed:  3.2min\n",
      "[Parallel(n_jobs=-1)]: Done 219 tasks      | elapsed:  3.2min\n",
      "[Parallel(n_jobs=-1)]: Done 220 tasks      | elapsed:  3.2min\n",
      "[Parallel(n_jobs=-1)]: Done 221 tasks      | elapsed:  3.2min\n",
      "[Parallel(n_jobs=-1)]: Done 222 tasks      | elapsed:  3.3min\n",
      "[Parallel(n_jobs=-1)]: Done 223 tasks      | elapsed:  3.3min\n",
      "[Parallel(n_jobs=-1)]: Done 224 tasks      | elapsed:  3.3min\n",
      "[Parallel(n_jobs=-1)]: Done 225 tasks      | elapsed:  3.3min\n",
      "[Parallel(n_jobs=-1)]: Done 226 tasks      | elapsed:  3.3min\n",
      "[Parallel(n_jobs=-1)]: Done 227 tasks      | elapsed:  3.3min\n",
      "[Parallel(n_jobs=-1)]: Done 228 tasks      | elapsed:  3.3min\n",
      "[Parallel(n_jobs=-1)]: Done 229 tasks      | elapsed:  3.4min\n",
      "[Parallel(n_jobs=-1)]: Done 230 tasks      | elapsed:  3.4min\n",
      "[Parallel(n_jobs=-1)]: Done 231 tasks      | elapsed:  3.4min\n",
      "[Parallel(n_jobs=-1)]: Done 232 tasks      | elapsed:  3.4min\n",
      "[Parallel(n_jobs=-1)]: Done 233 tasks      | elapsed:  3.4min\n",
      "[Parallel(n_jobs=-1)]: Done 234 tasks      | elapsed:  3.5min\n",
      "[Parallel(n_jobs=-1)]: Done 235 tasks      | elapsed:  3.5min\n",
      "[Parallel(n_jobs=-1)]: Done 236 tasks      | elapsed:  3.5min\n",
      "[Parallel(n_jobs=-1)]: Done 237 tasks      | elapsed:  3.6min\n",
      "[Parallel(n_jobs=-1)]: Done 238 tasks      | elapsed:  3.6min\n",
      "[Parallel(n_jobs=-1)]: Done 239 tasks      | elapsed:  3.6min\n",
      "[Parallel(n_jobs=-1)]: Done 240 tasks      | elapsed:  3.6min\n",
      "[Parallel(n_jobs=-1)]: Done 241 tasks      | elapsed:  3.7min\n",
      "[Parallel(n_jobs=-1)]: Done 242 tasks      | elapsed:  3.7min\n",
      "[Parallel(n_jobs=-1)]: Done 243 tasks      | elapsed:  3.7min\n",
      "[Parallel(n_jobs=-1)]: Done 244 tasks      | elapsed:  3.7min\n",
      "[Parallel(n_jobs=-1)]: Done 245 tasks      | elapsed:  3.7min\n",
      "[Parallel(n_jobs=-1)]: Done 246 tasks      | elapsed:  3.7min\n",
      "[Parallel(n_jobs=-1)]: Done 247 tasks      | elapsed:  3.7min\n",
      "[Parallel(n_jobs=-1)]: Done 248 tasks      | elapsed:  3.8min\n",
      "[Parallel(n_jobs=-1)]: Done 249 tasks      | elapsed:  3.8min\n",
      "[Parallel(n_jobs=-1)]: Done 250 tasks      | elapsed:  3.8min\n",
      "[Parallel(n_jobs=-1)]: Done 251 tasks      | elapsed:  3.8min\n",
      "[Parallel(n_jobs=-1)]: Done 252 tasks      | elapsed:  3.8min\n",
      "[Parallel(n_jobs=-1)]: Done 253 tasks      | elapsed:  3.8min\n",
      "[Parallel(n_jobs=-1)]: Done 254 tasks      | elapsed:  3.8min\n",
      "[Parallel(n_jobs=-1)]: Done 255 tasks      | elapsed:  3.8min\n",
      "[Parallel(n_jobs=-1)]: Done 256 tasks      | elapsed:  3.9min\n",
      "[Parallel(n_jobs=-1)]: Done 257 tasks      | elapsed:  3.9min\n",
      "[Parallel(n_jobs=-1)]: Done 258 tasks      | elapsed:  3.9min\n",
      "[Parallel(n_jobs=-1)]: Done 259 tasks      | elapsed:  3.9min\n",
      "[Parallel(n_jobs=-1)]: Done 260 tasks      | elapsed:  3.9min\n",
      "[Parallel(n_jobs=-1)]: Done 261 tasks      | elapsed:  4.0min\n",
      "[Parallel(n_jobs=-1)]: Done 262 tasks      | elapsed:  4.0min\n",
      "[Parallel(n_jobs=-1)]: Done 263 tasks      | elapsed:  4.0min\n",
      "[Parallel(n_jobs=-1)]: Done 264 tasks      | elapsed:  4.0min\n"
     ]
    },
    {
     "name": "stderr",
     "output_type": "stream",
     "text": [
      "[Parallel(n_jobs=-1)]: Done 265 tasks      | elapsed:  4.0min\n",
      "[Parallel(n_jobs=-1)]: Done 266 tasks      | elapsed:  4.1min\n",
      "[Parallel(n_jobs=-1)]: Done 267 tasks      | elapsed:  4.1min\n",
      "[Parallel(n_jobs=-1)]: Done 268 tasks      | elapsed:  4.1min\n",
      "[Parallel(n_jobs=-1)]: Done 269 tasks      | elapsed:  4.1min\n",
      "[Parallel(n_jobs=-1)]: Done 270 tasks      | elapsed:  4.1min\n",
      "[Parallel(n_jobs=-1)]: Done 271 tasks      | elapsed:  4.1min\n",
      "[Parallel(n_jobs=-1)]: Done 272 tasks      | elapsed:  4.1min\n",
      "[Parallel(n_jobs=-1)]: Done 273 tasks      | elapsed:  4.1min\n",
      "[Parallel(n_jobs=-1)]: Done 274 tasks      | elapsed:  4.2min\n",
      "[Parallel(n_jobs=-1)]: Done 275 tasks      | elapsed:  4.2min\n",
      "[Parallel(n_jobs=-1)]: Done 276 tasks      | elapsed:  4.2min\n",
      "[Parallel(n_jobs=-1)]: Done 277 tasks      | elapsed:  4.2min\n",
      "[Parallel(n_jobs=-1)]: Done 278 tasks      | elapsed:  4.2min\n",
      "[Parallel(n_jobs=-1)]: Done 279 tasks      | elapsed:  4.2min\n",
      "[Parallel(n_jobs=-1)]: Done 280 tasks      | elapsed:  4.2min\n",
      "[Parallel(n_jobs=-1)]: Done 281 tasks      | elapsed:  4.3min\n",
      "[Parallel(n_jobs=-1)]: Done 282 tasks      | elapsed:  4.3min\n",
      "[Parallel(n_jobs=-1)]: Done 283 tasks      | elapsed:  4.3min\n",
      "[Parallel(n_jobs=-1)]: Done 284 tasks      | elapsed:  4.3min\n",
      "[Parallel(n_jobs=-1)]: Done 285 tasks      | elapsed:  4.3min\n",
      "[Parallel(n_jobs=-1)]: Done 286 tasks      | elapsed:  4.4min\n",
      "[Parallel(n_jobs=-1)]: Done 287 tasks      | elapsed:  4.4min\n",
      "[Parallel(n_jobs=-1)]: Done 288 tasks      | elapsed:  4.4min\n",
      "[Parallel(n_jobs=-1)]: Done 289 tasks      | elapsed:  4.4min\n",
      "[Parallel(n_jobs=-1)]: Done 290 tasks      | elapsed:  4.4min\n",
      "[Parallel(n_jobs=-1)]: Done 291 tasks      | elapsed:  4.5min\n",
      "[Parallel(n_jobs=-1)]: Done 292 tasks      | elapsed:  4.5min\n",
      "[Parallel(n_jobs=-1)]: Done 293 tasks      | elapsed:  4.5min\n",
      "[Parallel(n_jobs=-1)]: Done 294 tasks      | elapsed:  4.5min\n",
      "[Parallel(n_jobs=-1)]: Done 295 tasks      | elapsed:  4.6min\n",
      "[Parallel(n_jobs=-1)]: Done 296 tasks      | elapsed:  4.6min\n",
      "[Parallel(n_jobs=-1)]: Done 297 tasks      | elapsed:  4.6min\n",
      "[Parallel(n_jobs=-1)]: Done 298 tasks      | elapsed:  4.6min\n",
      "[Parallel(n_jobs=-1)]: Done 299 tasks      | elapsed:  4.6min\n",
      "[Parallel(n_jobs=-1)]: Done 300 tasks      | elapsed:  4.6min\n",
      "[Parallel(n_jobs=-1)]: Done 301 tasks      | elapsed:  4.6min\n",
      "[Parallel(n_jobs=-1)]: Done 302 tasks      | elapsed:  4.7min\n",
      "[Parallel(n_jobs=-1)]: Done 303 tasks      | elapsed:  4.7min\n",
      "[Parallel(n_jobs=-1)]: Done 304 tasks      | elapsed:  4.7min\n",
      "[Parallel(n_jobs=-1)]: Done 305 tasks      | elapsed:  4.7min\n",
      "[Parallel(n_jobs=-1)]: Done 306 tasks      | elapsed:  4.7min\n",
      "[Parallel(n_jobs=-1)]: Done 307 tasks      | elapsed:  4.7min\n",
      "[Parallel(n_jobs=-1)]: Done 308 tasks      | elapsed:  4.7min\n",
      "[Parallel(n_jobs=-1)]: Done 309 tasks      | elapsed:  4.7min\n",
      "[Parallel(n_jobs=-1)]: Done 310 tasks      | elapsed:  4.8min\n",
      "[Parallel(n_jobs=-1)]: Done 311 tasks      | elapsed:  4.8min\n",
      "[Parallel(n_jobs=-1)]: Done 312 tasks      | elapsed:  4.8min\n",
      "[Parallel(n_jobs=-1)]: Done 313 tasks      | elapsed:  4.8min\n",
      "[Parallel(n_jobs=-1)]: Done 314 tasks      | elapsed:  4.8min\n",
      "[Parallel(n_jobs=-1)]: Done 315 tasks      | elapsed:  4.9min\n",
      "[Parallel(n_jobs=-1)]: Done 316 tasks      | elapsed:  4.9min\n",
      "[Parallel(n_jobs=-1)]: Done 317 tasks      | elapsed:  4.9min\n",
      "[Parallel(n_jobs=-1)]: Done 318 tasks      | elapsed:  4.9min\n",
      "[Parallel(n_jobs=-1)]: Done 319 tasks      | elapsed:  5.0min\n",
      "[Parallel(n_jobs=-1)]: Done 320 tasks      | elapsed:  5.0min\n",
      "[Parallel(n_jobs=-1)]: Done 321 tasks      | elapsed:  5.0min\n",
      "[Parallel(n_jobs=-1)]: Done 322 tasks      | elapsed:  5.0min\n",
      "[Parallel(n_jobs=-1)]: Done 323 tasks      | elapsed:  5.1min\n",
      "[Parallel(n_jobs=-1)]: Done 324 tasks      | elapsed:  5.1min\n",
      "[Parallel(n_jobs=-1)]: Done 325 tasks      | elapsed:  5.1min\n",
      "[Parallel(n_jobs=-1)]: Done 326 tasks      | elapsed:  5.1min\n",
      "[Parallel(n_jobs=-1)]: Done 327 tasks      | elapsed:  5.1min\n",
      "[Parallel(n_jobs=-1)]: Done 328 tasks      | elapsed:  5.1min\n",
      "[Parallel(n_jobs=-1)]: Done 329 tasks      | elapsed:  5.1min\n",
      "[Parallel(n_jobs=-1)]: Done 330 tasks      | elapsed:  5.1min\n",
      "[Parallel(n_jobs=-1)]: Done 331 tasks      | elapsed:  5.1min\n",
      "[Parallel(n_jobs=-1)]: Done 332 tasks      | elapsed:  5.1min\n",
      "[Parallel(n_jobs=-1)]: Done 333 tasks      | elapsed:  5.1min\n",
      "[Parallel(n_jobs=-1)]: Done 334 tasks      | elapsed:  5.1min\n",
      "[Parallel(n_jobs=-1)]: Done 335 tasks      | elapsed:  5.1min\n",
      "[Parallel(n_jobs=-1)]: Done 336 tasks      | elapsed:  5.2min\n",
      "[Parallel(n_jobs=-1)]: Done 337 tasks      | elapsed:  5.2min\n",
      "[Parallel(n_jobs=-1)]: Done 338 tasks      | elapsed:  5.2min\n",
      "[Parallel(n_jobs=-1)]: Done 339 tasks      | elapsed:  5.2min\n",
      "[Parallel(n_jobs=-1)]: Done 340 tasks      | elapsed:  5.2min\n",
      "[Parallel(n_jobs=-1)]: Done 341 tasks      | elapsed:  5.2min\n",
      "[Parallel(n_jobs=-1)]: Done 342 tasks      | elapsed:  5.2min\n",
      "[Parallel(n_jobs=-1)]: Done 343 tasks      | elapsed:  5.2min\n",
      "[Parallel(n_jobs=-1)]: Done 344 tasks      | elapsed:  5.2min\n",
      "[Parallel(n_jobs=-1)]: Done 345 tasks      | elapsed:  5.2min\n",
      "[Parallel(n_jobs=-1)]: Done 346 tasks      | elapsed:  5.3min\n",
      "[Parallel(n_jobs=-1)]: Done 347 tasks      | elapsed:  5.3min\n",
      "[Parallel(n_jobs=-1)]: Done 348 tasks      | elapsed:  5.3min\n",
      "[Parallel(n_jobs=-1)]: Done 349 tasks      | elapsed:  5.3min\n",
      "[Parallel(n_jobs=-1)]: Done 350 tasks      | elapsed:  5.3min\n",
      "[Parallel(n_jobs=-1)]: Done 351 tasks      | elapsed:  5.3min\n",
      "[Parallel(n_jobs=-1)]: Done 352 tasks      | elapsed:  5.4min\n",
      "[Parallel(n_jobs=-1)]: Done 353 tasks      | elapsed:  5.4min\n",
      "[Parallel(n_jobs=-1)]: Done 354 tasks      | elapsed:  5.4min\n",
      "[Parallel(n_jobs=-1)]: Done 355 tasks      | elapsed:  5.4min\n",
      "[Parallel(n_jobs=-1)]: Done 356 tasks      | elapsed:  5.4min\n",
      "[Parallel(n_jobs=-1)]: Done 357 tasks      | elapsed:  5.4min\n",
      "[Parallel(n_jobs=-1)]: Done 358 tasks      | elapsed:  5.4min\n",
      "[Parallel(n_jobs=-1)]: Done 359 tasks      | elapsed:  5.4min\n",
      "[Parallel(n_jobs=-1)]: Done 360 tasks      | elapsed:  5.4min\n",
      "[Parallel(n_jobs=-1)]: Done 361 tasks      | elapsed:  5.5min\n",
      "[Parallel(n_jobs=-1)]: Done 362 tasks      | elapsed:  5.5min\n",
      "[Parallel(n_jobs=-1)]: Done 363 tasks      | elapsed:  5.5min\n",
      "[Parallel(n_jobs=-1)]: Done 364 tasks      | elapsed:  5.5min\n",
      "[Parallel(n_jobs=-1)]: Done 365 tasks      | elapsed:  5.5min\n",
      "[Parallel(n_jobs=-1)]: Done 366 tasks      | elapsed:  5.5min\n",
      "[Parallel(n_jobs=-1)]: Done 367 tasks      | elapsed:  5.5min\n",
      "[Parallel(n_jobs=-1)]: Done 368 tasks      | elapsed:  5.5min\n",
      "[Parallel(n_jobs=-1)]: Done 369 tasks      | elapsed:  5.6min\n",
      "[Parallel(n_jobs=-1)]: Done 370 tasks      | elapsed:  5.6min\n",
      "[Parallel(n_jobs=-1)]: Done 371 tasks      | elapsed:  5.6min\n",
      "[Parallel(n_jobs=-1)]: Done 372 tasks      | elapsed:  5.6min\n",
      "[Parallel(n_jobs=-1)]: Done 373 tasks      | elapsed:  5.6min\n",
      "[Parallel(n_jobs=-1)]: Done 374 tasks      | elapsed:  5.6min\n",
      "[Parallel(n_jobs=-1)]: Done 375 tasks      | elapsed:  5.6min\n",
      "[Parallel(n_jobs=-1)]: Done 376 tasks      | elapsed:  5.7min\n",
      "[Parallel(n_jobs=-1)]: Done 377 tasks      | elapsed:  5.7min\n",
      "[Parallel(n_jobs=-1)]: Done 378 tasks      | elapsed:  5.7min\n",
      "[Parallel(n_jobs=-1)]: Done 379 tasks      | elapsed:  5.7min\n",
      "[Parallel(n_jobs=-1)]: Done 380 tasks      | elapsed:  5.7min\n",
      "[Parallel(n_jobs=-1)]: Done 381 tasks      | elapsed:  5.7min\n",
      "[Parallel(n_jobs=-1)]: Done 382 tasks      | elapsed:  5.7min\n",
      "[Parallel(n_jobs=-1)]: Done 383 tasks      | elapsed:  5.7min\n",
      "[Parallel(n_jobs=-1)]: Done 384 tasks      | elapsed:  5.7min\n",
      "[Parallel(n_jobs=-1)]: Done 385 tasks      | elapsed:  5.7min\n",
      "[Parallel(n_jobs=-1)]: Done 386 tasks      | elapsed:  5.7min\n",
      "[Parallel(n_jobs=-1)]: Done 387 tasks      | elapsed:  5.8min\n",
      "[Parallel(n_jobs=-1)]: Done 388 tasks      | elapsed:  5.8min\n",
      "[Parallel(n_jobs=-1)]: Done 389 tasks      | elapsed:  5.8min\n",
      "[Parallel(n_jobs=-1)]: Done 390 tasks      | elapsed:  5.8min\n",
      "[Parallel(n_jobs=-1)]: Done 391 tasks      | elapsed:  5.8min\n",
      "[Parallel(n_jobs=-1)]: Done 392 tasks      | elapsed:  5.8min\n",
      "[Parallel(n_jobs=-1)]: Done 393 tasks      | elapsed:  5.8min\n",
      "[Parallel(n_jobs=-1)]: Done 394 tasks      | elapsed:  5.9min\n",
      "[Parallel(n_jobs=-1)]: Done 395 tasks      | elapsed:  5.9min\n",
      "[Parallel(n_jobs=-1)]: Done 396 tasks      | elapsed:  5.9min\n",
      "[Parallel(n_jobs=-1)]: Done 397 tasks      | elapsed:  5.9min\n"
     ]
    },
    {
     "name": "stderr",
     "output_type": "stream",
     "text": [
      "[Parallel(n_jobs=-1)]: Done 398 tasks      | elapsed:  5.9min\n",
      "[Parallel(n_jobs=-1)]: Done 399 tasks      | elapsed:  6.0min\n",
      "[Parallel(n_jobs=-1)]: Done 400 tasks      | elapsed:  6.0min\n",
      "[Parallel(n_jobs=-1)]: Done 401 tasks      | elapsed:  6.0min\n",
      "[Parallel(n_jobs=-1)]: Done 402 tasks      | elapsed:  6.0min\n",
      "[Parallel(n_jobs=-1)]: Done 403 tasks      | elapsed:  6.1min\n",
      "[Parallel(n_jobs=-1)]: Done 404 tasks      | elapsed:  6.1min\n",
      "[Parallel(n_jobs=-1)]: Done 405 tasks      | elapsed:  6.1min\n",
      "[Parallel(n_jobs=-1)]: Done 406 tasks      | elapsed:  6.1min\n",
      "[Parallel(n_jobs=-1)]: Done 407 tasks      | elapsed:  6.1min\n",
      "[Parallel(n_jobs=-1)]: Done 408 tasks      | elapsed:  6.1min\n",
      "[Parallel(n_jobs=-1)]: Done 409 tasks      | elapsed:  6.1min\n",
      "[Parallel(n_jobs=-1)]: Done 410 tasks      | elapsed:  6.1min\n",
      "[Parallel(n_jobs=-1)]: Done 411 tasks      | elapsed:  6.1min\n",
      "[Parallel(n_jobs=-1)]: Done 412 tasks      | elapsed:  6.1min\n",
      "[Parallel(n_jobs=-1)]: Done 413 tasks      | elapsed:  6.1min\n",
      "[Parallel(n_jobs=-1)]: Done 414 tasks      | elapsed:  6.1min\n",
      "[Parallel(n_jobs=-1)]: Done 415 tasks      | elapsed:  6.2min\n",
      "[Parallel(n_jobs=-1)]: Done 416 tasks      | elapsed:  6.2min\n",
      "[Parallel(n_jobs=-1)]: Done 417 tasks      | elapsed:  6.2min\n",
      "[Parallel(n_jobs=-1)]: Done 418 tasks      | elapsed:  6.2min\n",
      "[Parallel(n_jobs=-1)]: Done 419 tasks      | elapsed:  6.2min\n",
      "[Parallel(n_jobs=-1)]: Done 420 tasks      | elapsed:  6.2min\n",
      "[Parallel(n_jobs=-1)]: Done 421 tasks      | elapsed:  6.2min\n",
      "[Parallel(n_jobs=-1)]: Done 422 tasks      | elapsed:  6.3min\n",
      "[Parallel(n_jobs=-1)]: Done 423 tasks      | elapsed:  6.3min\n",
      "[Parallel(n_jobs=-1)]: Done 424 tasks      | elapsed:  6.3min\n",
      "[Parallel(n_jobs=-1)]: Done 425 tasks      | elapsed:  6.3min\n",
      "[Parallel(n_jobs=-1)]: Done 426 tasks      | elapsed:  6.3min\n",
      "[Parallel(n_jobs=-1)]: Done 427 tasks      | elapsed:  6.4min\n",
      "[Parallel(n_jobs=-1)]: Done 428 tasks      | elapsed:  6.4min\n",
      "[Parallel(n_jobs=-1)]: Done 429 tasks      | elapsed:  6.4min\n",
      "[Parallel(n_jobs=-1)]: Done 430 tasks      | elapsed:  6.4min\n",
      "[Parallel(n_jobs=-1)]: Done 431 tasks      | elapsed:  6.4min\n",
      "[Parallel(n_jobs=-1)]: Done 432 tasks      | elapsed:  6.4min\n",
      "[Parallel(n_jobs=-1)]: Done 433 tasks      | elapsed:  6.4min\n",
      "[Parallel(n_jobs=-1)]: Done 434 tasks      | elapsed:  6.4min\n",
      "[Parallel(n_jobs=-1)]: Done 435 tasks      | elapsed:  6.5min\n",
      "[Parallel(n_jobs=-1)]: Done 436 tasks      | elapsed:  6.5min\n",
      "[Parallel(n_jobs=-1)]: Done 437 tasks      | elapsed:  6.5min\n",
      "[Parallel(n_jobs=-1)]: Done 438 tasks      | elapsed:  6.5min\n",
      "[Parallel(n_jobs=-1)]: Done 439 tasks      | elapsed:  6.5min\n",
      "[Parallel(n_jobs=-1)]: Done 440 tasks      | elapsed:  6.5min\n",
      "[Parallel(n_jobs=-1)]: Done 441 tasks      | elapsed:  6.5min\n",
      "[Parallel(n_jobs=-1)]: Done 442 tasks      | elapsed:  6.5min\n",
      "[Parallel(n_jobs=-1)]: Done 443 tasks      | elapsed:  6.6min\n",
      "[Parallel(n_jobs=-1)]: Done 444 tasks      | elapsed:  6.6min\n",
      "[Parallel(n_jobs=-1)]: Done 445 tasks      | elapsed:  6.6min\n",
      "[Parallel(n_jobs=-1)]: Done 446 tasks      | elapsed:  6.6min\n",
      "[Parallel(n_jobs=-1)]: Done 447 tasks      | elapsed:  6.6min\n",
      "[Parallel(n_jobs=-1)]: Done 448 tasks      | elapsed:  6.7min\n",
      "[Parallel(n_jobs=-1)]: Done 449 tasks      | elapsed:  6.7min\n",
      "[Parallel(n_jobs=-1)]: Done 450 tasks      | elapsed:  6.7min\n",
      "[Parallel(n_jobs=-1)]: Done 451 tasks      | elapsed:  6.7min\n",
      "[Parallel(n_jobs=-1)]: Done 452 tasks      | elapsed:  6.8min\n",
      "[Parallel(n_jobs=-1)]: Done 453 tasks      | elapsed:  6.8min\n",
      "[Parallel(n_jobs=-1)]: Done 454 tasks      | elapsed:  6.8min\n",
      "[Parallel(n_jobs=-1)]: Done 455 tasks      | elapsed:  6.8min\n",
      "[Parallel(n_jobs=-1)]: Done 456 tasks      | elapsed:  6.9min\n",
      "[Parallel(n_jobs=-1)]: Done 457 tasks      | elapsed:  6.9min\n",
      "[Parallel(n_jobs=-1)]: Done 458 tasks      | elapsed:  6.9min\n",
      "[Parallel(n_jobs=-1)]: Done 459 tasks      | elapsed:  6.9min\n",
      "[Parallel(n_jobs=-1)]: Done 460 tasks      | elapsed:  6.9min\n",
      "[Parallel(n_jobs=-1)]: Done 461 tasks      | elapsed:  6.9min\n",
      "[Parallel(n_jobs=-1)]: Done 462 tasks      | elapsed:  7.0min\n",
      "[Parallel(n_jobs=-1)]: Done 463 tasks      | elapsed:  7.0min\n",
      "[Parallel(n_jobs=-1)]: Done 464 tasks      | elapsed:  7.0min\n",
      "[Parallel(n_jobs=-1)]: Done 465 tasks      | elapsed:  7.0min\n",
      "[Parallel(n_jobs=-1)]: Done 466 tasks      | elapsed:  7.0min\n",
      "[Parallel(n_jobs=-1)]: Done 467 tasks      | elapsed:  7.0min\n",
      "[Parallel(n_jobs=-1)]: Done 468 tasks      | elapsed:  7.0min\n",
      "[Parallel(n_jobs=-1)]: Done 469 tasks      | elapsed:  7.0min\n",
      "[Parallel(n_jobs=-1)]: Done 470 tasks      | elapsed:  7.1min\n",
      "[Parallel(n_jobs=-1)]: Done 471 tasks      | elapsed:  7.1min\n",
      "[Parallel(n_jobs=-1)]: Done 472 tasks      | elapsed:  7.1min\n",
      "[Parallel(n_jobs=-1)]: Done 473 tasks      | elapsed:  7.1min\n",
      "[Parallel(n_jobs=-1)]: Done 474 tasks      | elapsed:  7.1min\n",
      "[Parallel(n_jobs=-1)]: Done 475 tasks      | elapsed:  7.2min\n",
      "[Parallel(n_jobs=-1)]: Done 476 tasks      | elapsed:  7.2min\n",
      "[Parallel(n_jobs=-1)]: Done 477 tasks      | elapsed:  7.2min\n",
      "[Parallel(n_jobs=-1)]: Done 478 tasks      | elapsed:  7.2min\n",
      "[Parallel(n_jobs=-1)]: Done 479 tasks      | elapsed:  7.2min\n",
      "[Parallel(n_jobs=-1)]: Done 486 out of 486 | elapsed:  7.4min finished\n"
     ]
    },
    {
     "data": {
      "text/plain": [
       "GridSearchCV(cv=3, error_score='raise-deprecating',\n",
       "             estimator=Pipeline(memory=None,\n",
       "                                steps=[('preprocessor',\n",
       "                                        ColumnTransformer(n_jobs=None,\n",
       "                                                          remainder='drop',\n",
       "                                                          sparse_threshold=0.3,\n",
       "                                                          transformer_weights=None,\n",
       "                                                          transformers=[('num',\n",
       "                                                                         Pipeline(memory=None,\n",
       "                                                                                  steps=[('custom',\n",
       "                                                                                          CustomNumericTransformer()),\n",
       "                                                                                         ('scaler',\n",
       "                                                                                          StandardScaler(copy=True,\n",
       "                                                                                                         with_mean=True,\n",
       "                                                                                                         with_std=True))]...\n",
       "                                                                   verbose=0,\n",
       "                                                                   warm_start=False))],\n",
       "                                verbose=False),\n",
       "             iid='warn', n_jobs=-1,\n",
       "             param_grid={'estimator__learning_rate': [0.01, 0.02, 0.025],\n",
       "                         'estimator__max_depth': [3, 4, 5],\n",
       "                         'estimator__max_features': ['auto', None],\n",
       "                         'estimator__n_estimators': [100, 200, 300],\n",
       "                         'estimator__subsample': [0.3, 0.5, 1]},\n",
       "             pre_dispatch='2*n_jobs', refit=True, return_train_score=False,\n",
       "             scoring='roc_auc', verbose=20)"
      ]
     },
     "execution_count": 38,
     "metadata": {},
     "output_type": "execute_result"
    }
   ],
   "source": [
    "param_grid = {'estimator__learning_rate': [0.01, 0.02, 0.025],\n",
    "              'estimator__n_estimators': [100, 200, 300],\n",
    "              'estimator__max_depth': [3, 4, 5],\n",
    "              'estimator__max_features': ['auto', None],\n",
    "              'estimator__subsample': [0.3, 0.5, 1]}\n",
    "grid = GridSearchCV(grad_boost_pipe,\n",
    "                    param_grid,\n",
    "                    scoring='roc_auc',\n",
    "                    n_jobs=-1,\n",
    "                    cv=3,\n",
    "                    verbose=20)\n",
    "grid.fit(X_train, y_train)"
   ]
  },
  {
   "cell_type": "code",
   "execution_count": 39,
   "metadata": {},
   "outputs": [
    {
     "data": {
      "text/plain": [
       "(0.8500917461201574,\n",
       " {'estimator__learning_rate': 0.025,\n",
       "  'estimator__max_depth': 3,\n",
       "  'estimator__max_features': None,\n",
       "  'estimator__n_estimators': 200,\n",
       "  'estimator__subsample': 0.5})"
      ]
     },
     "execution_count": 39,
     "metadata": {},
     "output_type": "execute_result"
    }
   ],
   "source": [
    "grid.best_score_, grid.best_params_"
   ]
  },
  {
   "cell_type": "markdown",
   "metadata": {},
   "source": [
    "Fit the best estimator and check it with holdout."
   ]
  },
  {
   "cell_type": "code",
   "execution_count": 43,
   "metadata": {},
   "outputs": [
    {
     "data": {
      "text/plain": [
       "0.8449830788705469"
      ]
     },
     "execution_count": 43,
     "metadata": {},
     "output_type": "execute_result"
    }
   ],
   "source": [
    "roc_auc_score(y_holdout, grid.best_estimator_.predict_proba(X_holdout)[:, 1])"
   ]
  },
  {
   "cell_type": "code",
   "execution_count": 46,
   "metadata": {},
   "outputs": [
    {
     "data": {
      "text/plain": [
       "Pipeline(memory=None,\n",
       "         steps=[('preprocessor',\n",
       "                 ColumnTransformer(n_jobs=None, remainder='drop',\n",
       "                                   sparse_threshold=0.3,\n",
       "                                   transformer_weights=None,\n",
       "                                   transformers=[('num',\n",
       "                                                  Pipeline(memory=None,\n",
       "                                                           steps=[('custom',\n",
       "                                                                   CustomNumericTransformer()),\n",
       "                                                                  ('scaler',\n",
       "                                                                   StandardScaler(copy=True,\n",
       "                                                                                  with_mean=True,\n",
       "                                                                                  with_std=True))],\n",
       "                                                           verbose=False),\n",
       "                                                  ['tenure', 'MonthlyCharges',\n",
       "                                                   'TotalCharges']),...\n",
       "                                            learning_rate=0.025,\n",
       "                                            loss='deviance', max_depth=3,\n",
       "                                            max_features=None,\n",
       "                                            max_leaf_nodes=None,\n",
       "                                            min_impurity_decrease=0.0,\n",
       "                                            min_impurity_split=None,\n",
       "                                            min_samples_leaf=1,\n",
       "                                            min_samples_split=2,\n",
       "                                            min_weight_fraction_leaf=0.0,\n",
       "                                            n_estimators=200,\n",
       "                                            n_iter_no_change=None,\n",
       "                                            presort='auto', random_state=None,\n",
       "                                            subsample=0.5, tol=0.0001,\n",
       "                                            validation_fraction=0.1, verbose=0,\n",
       "                                            warm_start=False))],\n",
       "         verbose=False)"
      ]
     },
     "execution_count": 46,
     "metadata": {},
     "output_type": "execute_result"
    }
   ],
   "source": [
    "grad_boost_pipe = Pipeline([('preprocessor', preprocessor),\n",
    "                            ('estimator', GradientBoostingClassifier(learning_rate=0.025,\n",
    "                                                                     n_estimators=200,\n",
    "                                                                     subsample=0.5))])\n",
    "grad_boost_pipe.fit(X_train, y_train)"
   ]
  },
  {
   "cell_type": "code",
   "execution_count": 48,
   "metadata": {},
   "outputs": [
    {
     "data": {
      "text/plain": [
       "0.8449365780567827"
      ]
     },
     "execution_count": 48,
     "metadata": {},
     "output_type": "execute_result"
    }
   ],
   "source": [
    "roc_auc_score(y_holdout, grad_boost_pipe.predict_proba(X_holdout)[:, 1])"
   ]
  },
  {
   "cell_type": "code",
   "execution_count": null,
   "metadata": {},
   "outputs": [],
   "source": []
  }
 ],
 "metadata": {
  "kernelspec": {
   "display_name": "Python 3",
   "language": "python",
   "name": "python3"
  },
  "language_info": {
   "codemirror_mode": {
    "name": "ipython",
    "version": 3
   },
   "file_extension": ".py",
   "mimetype": "text/x-python",
   "name": "python",
   "nbconvert_exporter": "python",
   "pygments_lexer": "ipython3",
   "version": "3.7.4"
  }
 },
 "nbformat": 4,
 "nbformat_minor": 2
}
